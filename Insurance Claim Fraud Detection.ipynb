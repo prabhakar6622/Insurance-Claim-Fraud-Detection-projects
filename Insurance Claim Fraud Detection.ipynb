{
 "cells": [
  {
   "cell_type": "markdown",
   "id": "30cb049d",
   "metadata": {},
   "source": [
    "# Installing the Libraries"
   ]
  },
  {
   "cell_type": "code",
   "execution_count": 1,
   "id": "413b6114",
   "metadata": {},
   "outputs": [],
   "source": [
    "import numpy as np\n",
    "import pandas as pd\n",
    "\n",
    "import matplotlib.pyplot as plt\n",
    "import seaborn as sns"
   ]
  },
  {
   "cell_type": "code",
   "execution_count": 2,
   "id": "63ffd85f",
   "metadata": {},
   "outputs": [
    {
     "name": "stdout",
     "output_type": "stream",
     "text": [
      "(1338, 8)\n"
     ]
    },
    {
     "data": {
      "text/html": [
       "<div>\n",
       "<style scoped>\n",
       "    .dataframe tbody tr th:only-of-type {\n",
       "        vertical-align: middle;\n",
       "    }\n",
       "\n",
       "    .dataframe tbody tr th {\n",
       "        vertical-align: top;\n",
       "    }\n",
       "\n",
       "    .dataframe thead th {\n",
       "        text-align: right;\n",
       "    }\n",
       "</style>\n",
       "<table border=\"1\" class=\"dataframe\">\n",
       "  <thead>\n",
       "    <tr style=\"text-align: right;\">\n",
       "      <th></th>\n",
       "      <th>age</th>\n",
       "      <th>sex</th>\n",
       "      <th>bmi</th>\n",
       "      <th>children</th>\n",
       "      <th>smoker</th>\n",
       "      <th>region</th>\n",
       "      <th>charges</th>\n",
       "      <th>insuranceclaim</th>\n",
       "    </tr>\n",
       "  </thead>\n",
       "  <tbody>\n",
       "    <tr>\n",
       "      <th>0</th>\n",
       "      <td>19</td>\n",
       "      <td>0</td>\n",
       "      <td>27.900</td>\n",
       "      <td>0</td>\n",
       "      <td>1</td>\n",
       "      <td>3</td>\n",
       "      <td>16884.92400</td>\n",
       "      <td>1</td>\n",
       "    </tr>\n",
       "    <tr>\n",
       "      <th>1</th>\n",
       "      <td>18</td>\n",
       "      <td>1</td>\n",
       "      <td>33.770</td>\n",
       "      <td>1</td>\n",
       "      <td>0</td>\n",
       "      <td>2</td>\n",
       "      <td>1725.55230</td>\n",
       "      <td>1</td>\n",
       "    </tr>\n",
       "    <tr>\n",
       "      <th>2</th>\n",
       "      <td>28</td>\n",
       "      <td>1</td>\n",
       "      <td>33.000</td>\n",
       "      <td>3</td>\n",
       "      <td>0</td>\n",
       "      <td>2</td>\n",
       "      <td>4449.46200</td>\n",
       "      <td>0</td>\n",
       "    </tr>\n",
       "    <tr>\n",
       "      <th>3</th>\n",
       "      <td>33</td>\n",
       "      <td>1</td>\n",
       "      <td>22.705</td>\n",
       "      <td>0</td>\n",
       "      <td>0</td>\n",
       "      <td>1</td>\n",
       "      <td>21984.47061</td>\n",
       "      <td>0</td>\n",
       "    </tr>\n",
       "    <tr>\n",
       "      <th>4</th>\n",
       "      <td>32</td>\n",
       "      <td>1</td>\n",
       "      <td>28.880</td>\n",
       "      <td>0</td>\n",
       "      <td>0</td>\n",
       "      <td>1</td>\n",
       "      <td>3866.85520</td>\n",
       "      <td>1</td>\n",
       "    </tr>\n",
       "  </tbody>\n",
       "</table>\n",
       "</div>"
      ],
      "text/plain": [
       "   age  sex     bmi  children  smoker  region      charges  insuranceclaim\n",
       "0   19    0  27.900         0       1       3  16884.92400               1\n",
       "1   18    1  33.770         1       0       2   1725.55230               1\n",
       "2   28    1  33.000         3       0       2   4449.46200               0\n",
       "3   33    1  22.705         0       0       1  21984.47061               0\n",
       "4   32    1  28.880         0       0       1   3866.85520               1"
      ]
     },
     "execution_count": 2,
     "metadata": {},
     "output_type": "execute_result"
    }
   ],
   "source": [
    "data = pd.read_csv(\"C:/Users/Jai Mata Di/Downloads/SBI_Life_insurance.csv\")\n",
    "\n",
    "print(data.shape)\n",
    "\n",
    "data.head()"
   ]
  },
  {
   "cell_type": "code",
   "execution_count": 4,
   "id": "b2b156e6",
   "metadata": {},
   "outputs": [
    {
     "name": "stdout",
     "output_type": "stream",
     "text": [
      "<class 'pandas.core.frame.DataFrame'>\n",
      "RangeIndex: 1338 entries, 0 to 1337\n",
      "Data columns (total 8 columns):\n",
      " #   Column          Non-Null Count  Dtype  \n",
      "---  ------          --------------  -----  \n",
      " 0   age             1338 non-null   int64  \n",
      " 1   sex             1338 non-null   int64  \n",
      " 2   bmi             1338 non-null   float64\n",
      " 3   children        1338 non-null   int64  \n",
      " 4   smoker          1338 non-null   int64  \n",
      " 5   region          1338 non-null   int64  \n",
      " 6   charges         1338 non-null   float64\n",
      " 7   insuranceclaim  1338 non-null   int64  \n",
      "dtypes: float64(2), int64(6)\n",
      "memory usage: 83.8 KB\n"
     ]
    }
   ],
   "source": [
    "data.info()"
   ]
  },
  {
   "cell_type": "code",
   "execution_count": 5,
   "id": "a06124d1",
   "metadata": {},
   "outputs": [
    {
     "data": {
      "text/html": [
       "<div>\n",
       "<style scoped>\n",
       "    .dataframe tbody tr th:only-of-type {\n",
       "        vertical-align: middle;\n",
       "    }\n",
       "\n",
       "    .dataframe tbody tr th {\n",
       "        vertical-align: top;\n",
       "    }\n",
       "\n",
       "    .dataframe thead th {\n",
       "        text-align: right;\n",
       "    }\n",
       "</style>\n",
       "<table border=\"1\" class=\"dataframe\">\n",
       "  <thead>\n",
       "    <tr style=\"text-align: right;\">\n",
       "      <th></th>\n",
       "      <th>age</th>\n",
       "      <th>sex</th>\n",
       "      <th>bmi</th>\n",
       "      <th>children</th>\n",
       "      <th>smoker</th>\n",
       "      <th>region</th>\n",
       "      <th>charges</th>\n",
       "      <th>insuranceclaim</th>\n",
       "    </tr>\n",
       "  </thead>\n",
       "  <tbody>\n",
       "    <tr>\n",
       "      <th>count</th>\n",
       "      <td>1338.000000</td>\n",
       "      <td>1338.000000</td>\n",
       "      <td>1338.000000</td>\n",
       "      <td>1338.000000</td>\n",
       "      <td>1338.000000</td>\n",
       "      <td>1338.000000</td>\n",
       "      <td>1338.000000</td>\n",
       "      <td>1338.000000</td>\n",
       "    </tr>\n",
       "    <tr>\n",
       "      <th>mean</th>\n",
       "      <td>39.207025</td>\n",
       "      <td>0.505232</td>\n",
       "      <td>30.663397</td>\n",
       "      <td>1.094918</td>\n",
       "      <td>0.204783</td>\n",
       "      <td>1.515695</td>\n",
       "      <td>13270.422265</td>\n",
       "      <td>0.585202</td>\n",
       "    </tr>\n",
       "    <tr>\n",
       "      <th>std</th>\n",
       "      <td>14.049960</td>\n",
       "      <td>0.500160</td>\n",
       "      <td>6.098187</td>\n",
       "      <td>1.205493</td>\n",
       "      <td>0.403694</td>\n",
       "      <td>1.104885</td>\n",
       "      <td>12110.011237</td>\n",
       "      <td>0.492871</td>\n",
       "    </tr>\n",
       "    <tr>\n",
       "      <th>min</th>\n",
       "      <td>18.000000</td>\n",
       "      <td>0.000000</td>\n",
       "      <td>15.960000</td>\n",
       "      <td>0.000000</td>\n",
       "      <td>0.000000</td>\n",
       "      <td>0.000000</td>\n",
       "      <td>1121.873900</td>\n",
       "      <td>0.000000</td>\n",
       "    </tr>\n",
       "    <tr>\n",
       "      <th>25%</th>\n",
       "      <td>27.000000</td>\n",
       "      <td>0.000000</td>\n",
       "      <td>26.296250</td>\n",
       "      <td>0.000000</td>\n",
       "      <td>0.000000</td>\n",
       "      <td>1.000000</td>\n",
       "      <td>4740.287150</td>\n",
       "      <td>0.000000</td>\n",
       "    </tr>\n",
       "    <tr>\n",
       "      <th>50%</th>\n",
       "      <td>39.000000</td>\n",
       "      <td>1.000000</td>\n",
       "      <td>30.400000</td>\n",
       "      <td>1.000000</td>\n",
       "      <td>0.000000</td>\n",
       "      <td>2.000000</td>\n",
       "      <td>9382.033000</td>\n",
       "      <td>1.000000</td>\n",
       "    </tr>\n",
       "    <tr>\n",
       "      <th>75%</th>\n",
       "      <td>51.000000</td>\n",
       "      <td>1.000000</td>\n",
       "      <td>34.693750</td>\n",
       "      <td>2.000000</td>\n",
       "      <td>0.000000</td>\n",
       "      <td>2.000000</td>\n",
       "      <td>16639.912515</td>\n",
       "      <td>1.000000</td>\n",
       "    </tr>\n",
       "    <tr>\n",
       "      <th>max</th>\n",
       "      <td>64.000000</td>\n",
       "      <td>1.000000</td>\n",
       "      <td>53.130000</td>\n",
       "      <td>5.000000</td>\n",
       "      <td>1.000000</td>\n",
       "      <td>3.000000</td>\n",
       "      <td>63770.428010</td>\n",
       "      <td>1.000000</td>\n",
       "    </tr>\n",
       "  </tbody>\n",
       "</table>\n",
       "</div>"
      ],
      "text/plain": [
       "               age          sex          bmi     children       smoker  \\\n",
       "count  1338.000000  1338.000000  1338.000000  1338.000000  1338.000000   \n",
       "mean     39.207025     0.505232    30.663397     1.094918     0.204783   \n",
       "std      14.049960     0.500160     6.098187     1.205493     0.403694   \n",
       "min      18.000000     0.000000    15.960000     0.000000     0.000000   \n",
       "25%      27.000000     0.000000    26.296250     0.000000     0.000000   \n",
       "50%      39.000000     1.000000    30.400000     1.000000     0.000000   \n",
       "75%      51.000000     1.000000    34.693750     2.000000     0.000000   \n",
       "max      64.000000     1.000000    53.130000     5.000000     1.000000   \n",
       "\n",
       "            region       charges  insuranceclaim  \n",
       "count  1338.000000   1338.000000     1338.000000  \n",
       "mean      1.515695  13270.422265        0.585202  \n",
       "std       1.104885  12110.011237        0.492871  \n",
       "min       0.000000   1121.873900        0.000000  \n",
       "25%       1.000000   4740.287150        0.000000  \n",
       "50%       2.000000   9382.033000        1.000000  \n",
       "75%       2.000000  16639.912515        1.000000  \n",
       "max       3.000000  63770.428010        1.000000  "
      ]
     },
     "execution_count": 5,
     "metadata": {},
     "output_type": "execute_result"
    }
   ],
   "source": [
    "data.describe()"
   ]
  },
  {
   "cell_type": "code",
   "execution_count": 6,
   "id": "df767e2e",
   "metadata": {},
   "outputs": [
    {
     "data": {
      "text/plain": [
       "age               0\n",
       "sex               0\n",
       "bmi               0\n",
       "children          0\n",
       "smoker            0\n",
       "region            0\n",
       "charges           0\n",
       "insuranceclaim    0\n",
       "dtype: int64"
      ]
     },
     "execution_count": 6,
     "metadata": {},
     "output_type": "execute_result"
    }
   ],
   "source": [
    "data.isnull().sum()"
   ]
  },
  {
   "cell_type": "code",
   "execution_count": 7,
   "id": "254cb015",
   "metadata": {},
   "outputs": [
    {
     "data": {
      "text/plain": [
       "1    676\n",
       "0    662\n",
       "Name: sex, dtype: int64"
      ]
     },
     "execution_count": 7,
     "metadata": {},
     "output_type": "execute_result"
    }
   ],
   "source": [
    "data['sex'].value_counts()"
   ]
  },
  {
   "cell_type": "code",
   "execution_count": 8,
   "id": "76ada872",
   "metadata": {},
   "outputs": [
    {
     "data": {
      "text/plain": [
       "18    69\n",
       "19    68\n",
       "50    29\n",
       "51    29\n",
       "47    29\n",
       "46    29\n",
       "45    29\n",
       "20    29\n",
       "48    29\n",
       "52    29\n",
       "22    28\n",
       "49    28\n",
       "54    28\n",
       "53    28\n",
       "21    28\n",
       "26    28\n",
       "24    28\n",
       "25    28\n",
       "28    28\n",
       "27    28\n",
       "23    28\n",
       "43    27\n",
       "29    27\n",
       "30    27\n",
       "41    27\n",
       "42    27\n",
       "44    27\n",
       "31    27\n",
       "40    27\n",
       "32    26\n",
       "33    26\n",
       "56    26\n",
       "34    26\n",
       "55    26\n",
       "57    26\n",
       "37    25\n",
       "59    25\n",
       "58    25\n",
       "36    25\n",
       "38    25\n",
       "35    25\n",
       "39    25\n",
       "61    23\n",
       "60    23\n",
       "63    23\n",
       "62    23\n",
       "64    22\n",
       "Name: age, dtype: int64"
      ]
     },
     "execution_count": 8,
     "metadata": {},
     "output_type": "execute_result"
    }
   ],
   "source": [
    "data['age'].value_counts()"
   ]
  },
  {
   "cell_type": "code",
   "execution_count": 9,
   "id": "d48b2db9",
   "metadata": {},
   "outputs": [
    {
     "data": {
      "text/plain": [
       "0    574\n",
       "1    324\n",
       "2    240\n",
       "3    157\n",
       "4     25\n",
       "5     18\n",
       "Name: children, dtype: int64"
      ]
     },
     "execution_count": 9,
     "metadata": {},
     "output_type": "execute_result"
    }
   ],
   "source": [
    "data['children'].value_counts()"
   ]
  },
  {
   "cell_type": "code",
   "execution_count": 10,
   "id": "36b5cc66",
   "metadata": {},
   "outputs": [
    {
     "data": {
      "text/plain": [
       "0    1064\n",
       "1     274\n",
       "Name: smoker, dtype: int64"
      ]
     },
     "execution_count": 10,
     "metadata": {},
     "output_type": "execute_result"
    }
   ],
   "source": [
    "data['smoker'].value_counts()"
   ]
  },
  {
   "cell_type": "code",
   "execution_count": 11,
   "id": "996635e6",
   "metadata": {},
   "outputs": [
    {
     "data": {
      "text/plain": [
       "2    364\n",
       "3    325\n",
       "1    325\n",
       "0    324\n",
       "Name: region, dtype: int64"
      ]
     },
     "execution_count": 11,
     "metadata": {},
     "output_type": "execute_result"
    }
   ],
   "source": [
    "data['region'].value_counts()"
   ]
  },
  {
   "cell_type": "code",
   "execution_count": 12,
   "id": "b0131e72",
   "metadata": {},
   "outputs": [
    {
     "data": {
      "text/plain": [
       "Index(['age', 'sex', 'bmi', 'children', 'smoker', 'region', 'charges',\n",
       "       'insuranceclaim'],\n",
       "      dtype='object')"
      ]
     },
     "execution_count": 12,
     "metadata": {},
     "output_type": "execute_result"
    }
   ],
   "source": [
    "data.columns"
   ]
  },
  {
   "cell_type": "markdown",
   "id": "021eb446",
   "metadata": {},
   "source": [
    "# Data Analysis"
   ]
  },
  {
   "cell_type": "code",
   "execution_count": 13,
   "id": "6766e8be",
   "metadata": {},
   "outputs": [
    {
     "data": {
      "text/plain": [
       "Text(0.5, 1.0, 'Age vs Charges')"
      ]
     },
     "execution_count": 13,
     "metadata": {},
     "output_type": "execute_result"
    },
    {
     "data": {
      "image/png": "[encoded data removed]",
      "text/plain": [
       "<Figure size 864x576 with 1 Axes>"
      ]
     },
     "metadata": {
      "needs_background": "light"
     },
     "output_type": "display_data"
    }
   ],
   "source": [
    "# Age vs Charges\n",
    "# the more the age the more will be insurance charge (roughly estimated)\n",
    "\n",
    "plt.figure(figsize = (12, 8))\n",
    "sns.barplot(x = 'age', y = 'charges', data = data)\n",
    "\n",
    "plt.title(\"Age vs Charges\")"
   ]
  },
  {
   "cell_type": "code",
   "execution_count": 14,
   "id": "c99b6ff7",
   "metadata": {},
   "outputs": [
    {
     "data": {
      "text/plain": [
       "Text(0.5, 1.0, 'sex vs charges')"
      ]
     },
     "execution_count": 14,
     "metadata": {},
     "output_type": "execute_result"
    },
    {
     "data": {
      "image/png": "[encoded data removed]",
      "text/plain": [
       "<Figure size 432x432 with 1 Axes>"
      ]
     },
     "metadata": {
      "needs_background": "light"
     },
     "output_type": "display_data"
    }
   ],
   "source": [
    "# sex vs charges\n",
    "# males have slightly greater insurance charges than females in general\n",
    "\n",
    "plt.figure(figsize = (6, 6))\n",
    "sns.barplot(x = 'sex', y = 'charges', data = data)\n",
    "\n",
    "plt.title('sex vs charges')"
   ]
  },
  {
   "cell_type": "code",
   "execution_count": 15,
   "id": "01434d4b",
   "metadata": {},
   "outputs": [
    {
     "data": {
      "text/plain": [
       "Text(0.5, 1.0, 'children vs charges')"
      ]
     },
     "execution_count": 15,
     "metadata": {},
     "output_type": "execute_result"
    },
    {
     "data": {
      "image/png": "[encoded data removed]",
      "text/plain": [
       "<Figure size 864x576 with 1 Axes>"
      ]
     },
     "metadata": {
      "needs_background": "light"
     },
     "output_type": "display_data"
    }
   ],
   "source": [
    "# children vs charges\n",
    "# no. of childrens of a person has a very interesting dependency on insurance costs\n",
    "\n",
    "plt.figure(figsize = (12, 8))\n",
    "sns.barplot(x = 'children', y = 'charges', data = data)\n",
    "\n",
    "plt.title('children vs charges')"
   ]
  },
  {
   "cell_type": "code",
   "execution_count": 16,
   "id": "701b48a7",
   "metadata": {},
   "outputs": [
    {
     "data": {
      "text/plain": [
       "Text(0.5, 1.0, 'region vs charges')"
      ]
     },
     "execution_count": 16,
     "metadata": {},
     "output_type": "execute_result"
    },
    {
     "data": {
      "image/png": "[encoded data removed]",
      "text/plain": [
       "<Figure size 864x576 with 1 Axes>"
      ]
     },
     "metadata": {
      "needs_background": "light"
     },
     "output_type": "display_data"
    }
   ],
   "source": [
    "# region vs charges\n",
    "# From the graph we can see that the region actually does not play any role in determining the insurance charges\n",
    "\n",
    "plt.figure(figsize = (12, 8))\n",
    "sns.barplot(x = 'region', y = 'charges', data = data)\n",
    "\n",
    "plt.title('region vs charges')"
   ]
  },
  {
   "cell_type": "code",
   "execution_count": 17,
   "id": "2d65e2c6",
   "metadata": {},
   "outputs": [
    {
     "data": {
      "text/plain": [
       "Text(0.5, 1.0, 'smoker vs charges')"
      ]
     },
     "execution_count": 17,
     "metadata": {},
     "output_type": "execute_result"
    },
    {
     "data": {
      "image/png": "[encoded data removed]",
      "text/plain": [
       "<Figure size 432x432 with 1 Axes>"
      ]
     },
     "metadata": {
      "needs_background": "light"
     },
     "output_type": "display_data"
    }
   ],
   "source": [
    "# smoker vs charges\n",
    "# from the graph below, it is visible that smokers have more insurance charges than the non smokers\n",
    "\n",
    "plt.figure(figsize = (6, 6))\n",
    "sns.barplot(x = 'smoker', y = 'charges', data = data)\n",
    "\n",
    "plt.title('smoker vs charges')"
   ]
  },
  {
   "cell_type": "markdown",
   "id": "0b143150",
   "metadata": {},
   "source": [
    "# Correlation Plot"
   ]
  },
  {
   "cell_type": "code",
   "execution_count": 18,
   "id": "b5201345",
   "metadata": {},
   "outputs": [
    {
     "name": "stderr",
     "output_type": "stream",
     "text": [
      "C:\\Users\\JAIMAT~1\\AppData\\Local\\Temp/ipykernel_3232/3490887860.py:6: DeprecationWarning: `np.bool` is a deprecated alias for the builtin `bool`. To silence this warning, use `bool` by itself. Doing this will not modify any behavior and is safe. If you specifically wanted the numpy scalar type, use `np.bool_` here.\n",
      "Deprecated in NumPy 1.20; for more details and guidance: https://numpy.org/devdocs/release/1.20.0-notes.html#deprecations\n",
      "  sns.heatmap(corr, mask = np.zeros_like(corr, dtype = np.bool),\n"
     ]
    },
    {
     "data": {
      "text/plain": [
       "<AxesSubplot:>"
      ]
     },
     "execution_count": 18,
     "metadata": {},
     "output_type": "execute_result"
    },
    {
     "data": {
      "image/png": "[encoded data removed]",
      "text/plain": [
       "<Figure size 720x720 with 2 Axes>"
      ]
     },
     "metadata": {
      "needs_background": "light"
     },
     "output_type": "display_data"
    }
   ],
   "source": [
    "# plotting the correlation plot for the dataset\n",
    "\n",
    "f, ax = plt.subplots(figsize = (10, 10))\n",
    "\n",
    "corr = data.corr()\n",
    "sns.heatmap(corr, mask = np.zeros_like(corr, dtype = np.bool), \n",
    "            cmap = sns.diverging_palette(50, 10, as_cmap = True), square = True, ax = ax)"
   ]
  },
  {
   "cell_type": "markdown",
   "id": "36bc3b43",
   "metadata": {},
   "source": [
    "# Data Pre-processing"
   ]
  },
  {
   "cell_type": "code",
   "execution_count": 20,
   "id": "8a22b8fa",
   "metadata": {},
   "outputs": [
    {
     "name": "stdout",
     "output_type": "stream",
     "text": [
      "(1338, 7)\n"
     ]
    },
    {
     "data": {
      "text/plain": [
       "Index(['age', 'sex', 'bmi', 'children', 'smoker', 'charges', 'insuranceclaim'], dtype='object')"
      ]
     },
     "execution_count": 20,
     "metadata": {},
     "output_type": "execute_result"
    }
   ],
   "source": [
    "# removing unnecassary columns from the dataset\n",
    "\n",
    "data = data.drop('region', axis = 1)\n",
    "\n",
    "print(data.shape)\n",
    "\n",
    "data.columns"
   ]
  },
  {
   "cell_type": "code",
   "execution_count": 21,
   "id": "3ee05228",
   "metadata": {},
   "outputs": [],
   "source": [
    "# label encoding for sex and smoker\n",
    "\n",
    "# importing label encoder\n",
    "from sklearn.preprocessing import LabelEncoder\n",
    "\n",
    "# creating a label encoder\n",
    "le = LabelEncoder()\n",
    "\n",
    "\n",
    "# label encoding for sex\n",
    "# 0 for females and 1 for males\n",
    "data['sex'] = le.fit_transform(data['sex'])\n",
    "\n",
    "# label encoding for smoker\n",
    "# 0 for smokers and 1 for non smokers\n",
    "data['smoker'] = le.fit_transform(data['smoker'])"
   ]
  },
  {
   "cell_type": "code",
   "execution_count": 22,
   "id": "40e9db42",
   "metadata": {},
   "outputs": [
    {
     "data": {
      "text/plain": [
       "1    676\n",
       "0    662\n",
       "Name: sex, dtype: int64"
      ]
     },
     "execution_count": 22,
     "metadata": {},
     "output_type": "execute_result"
    }
   ],
   "source": [
    "data['sex'].value_counts()"
   ]
  },
  {
   "cell_type": "code",
   "execution_count": 23,
   "id": "a7fa8b2b",
   "metadata": {},
   "outputs": [
    {
     "data": {
      "text/plain": [
       "0    1064\n",
       "1     274\n",
       "Name: smoker, dtype: int64"
      ]
     },
     "execution_count": 23,
     "metadata": {},
     "output_type": "execute_result"
    }
   ],
   "source": [
    "data['smoker'].value_counts()"
   ]
  },
  {
   "cell_type": "code",
   "execution_count": 24,
   "id": "232a0b59",
   "metadata": {},
   "outputs": [
    {
     "name": "stdout",
     "output_type": "stream",
     "text": [
      "(1338, 5)\n",
      "(1338,)\n"
     ]
    }
   ],
   "source": [
    "# splitting the dependent and independent variable\n",
    "\n",
    "x = data.iloc[:,:5]\n",
    "y = data.iloc[:,5]\n",
    "\n",
    "print(x.shape)\n",
    "print(y.shape)"
   ]
  },
  {
   "cell_type": "code",
   "execution_count": 27,
   "id": "f44a7d62",
   "metadata": {},
   "outputs": [
    {
     "name": "stdout",
     "output_type": "stream",
     "text": [
      "(1070, 5)\n",
      "(268, 5)\n",
      "(1070,)\n",
      "(268,)\n"
     ]
    }
   ],
   "source": [
    "# splitting the dataset into training and testing sets\n",
    "\n",
    "from sklearn.model_selection import train_test_split\n",
    "\n",
    "x_train, x_test, y_train, y_test = train_test_split(x, y, test_size = 0.2, random_state = 30)\n",
    "\n",
    "print(x_train.shape)\n",
    "print(x_test.shape)\n",
    "print(y_train.shape)\n",
    "print(y_test.shape)"
   ]
  },
  {
   "cell_type": "code",
   "execution_count": 28,
   "id": "5ad64da8",
   "metadata": {},
   "outputs": [],
   "source": [
    "# standard scaling\n",
    "\n",
    "from sklearn.preprocessing import StandardScaler\n",
    "\n",
    "# creating a standard scaler\n",
    "sc = StandardScaler()\n",
    "\n",
    "# feeding independents sets into the standard scaler\n",
    "x_train = sc.fit_transform(x_train)\n",
    "x_test = sc.fit_transform(x_test)"
   ]
  },
  {
   "cell_type": "markdown",
   "id": "d2f0b74d",
   "metadata": {},
   "source": [
    "# Modelling\n",
    "\n",
    "Linear Regression"
   ]
  },
  {
   "cell_type": "code",
   "execution_count": 29,
   "id": "37196750",
   "metadata": {},
   "outputs": [
    {
     "name": "stdout",
     "output_type": "stream",
     "text": [
      "MSE : 37806750.25007653\n",
      "RMSE : 6148.719399198221\n",
      "r2 score : 0.7549043319540902\n"
     ]
    }
   ],
   "source": [
    "from sklearn.linear_model import LinearRegression\n",
    "from sklearn.metrics import r2_score\n",
    "\n",
    "\n",
    "# creating the model\n",
    "model = LinearRegression()\n",
    "\n",
    "# feeding the training data to the model\n",
    "model.fit(x_train, y_train)\n",
    "\n",
    "# predicting the test set results\n",
    "y_pred = model.predict(x_test)\n",
    "\n",
    "# calculating the mean squared error\n",
    "mse = np.mean((y_test - y_pred)**2, axis = None)\n",
    "print(\"MSE :\", mse)\n",
    "\n",
    "# Calculating the root mean squared error\n",
    "rmse = np.sqrt(mse)\n",
    "print(\"RMSE :\", rmse)\n",
    "\n",
    "# Calculating the r2 score\n",
    "r2 = r2_score(y_test, y_pred)\n",
    "print(\"r2 score :\", r2)"
   ]
  },
  {
   "cell_type": "code",
   "execution_count": 30,
   "id": "075c43db",
   "metadata": {},
   "outputs": [
    {
     "data": {
      "text/plain": [
       "338    41919.09700\n",
       "620     3659.34600\n",
       "965     4746.34400\n",
       "128    32734.18630\n",
       "329     9144.56500\n",
       "          ...     \n",
       "580    12913.99240\n",
       "786    12741.16745\n",
       "321    24671.66334\n",
       "903     8125.78450\n",
       "613     6753.03800\n",
       "Name: charges, Length: 268, dtype: float64"
      ]
     },
     "execution_count": 30,
     "metadata": {},
     "output_type": "execute_result"
    }
   ],
   "source": [
    "y_test"
   ]
  },
  {
   "cell_type": "code",
   "execution_count": 31,
   "id": "10caf2da",
   "metadata": {},
   "outputs": [
    {
     "data": {
      "text/plain": [
       "array([34463.03582081,  5351.63285316,  5380.9763682 , 25960.03740848,\n",
       "       12496.7519736 ,  6408.63819349,  4081.62037308,  9300.34454944,\n",
       "       32957.30705757, 10937.63104598,  7519.13584334,  9726.30820152,\n",
       "       34438.32925237, 11046.23596617,   819.90626006, 35368.51634447,\n",
       "       11430.73775682,  8747.50405981, 28520.23066838, 10780.77269818,\n",
       "         885.55261833,  8140.91449068,  7686.87521254, 10734.04414171,\n",
       "       32605.85490348, 38733.33147903, 14385.6266007 ,  2947.77854767,\n",
       "       10456.87417122, 14224.24201886,  1675.51537561, 30193.11285619,\n",
       "         944.28091937, 14459.05536274, 12261.67368565,  8411.64973742,\n",
       "        1863.86250159,  6487.85043844,   186.61387983,  8192.76868362,\n",
       "        6366.87004436, 33513.53920691,  2007.49195393, 13551.24985198,\n",
       "       10145.95016308, 29556.16908321,  4878.71697149,  2536.59789849,\n",
       "        2321.4068302 ,  4974.23941116, 10987.31701618, 12416.97110239,\n",
       "       11958.11247547,   878.6345611 , 10867.31696491,  7014.47673418,\n",
       "       30770.43624113,  3085.98932145, 12488.52222358,  4450.51876345,\n",
       "       14678.35341681, 10623.53897858, 10948.69439689,  7374.3905582 ,\n",
       "        -978.28401768,  7629.31479487,  9810.98011112,  1149.77856134,\n",
       "        2548.43516479, 14512.29061742, 10501.54007914,  1841.39577283,\n",
       "        -224.99158618,  9265.54108489, 15755.42309527, -1149.84543201,\n",
       "       12147.72995061,  9330.21802531, 30356.77333761,  3653.33962314,\n",
       "         545.20515877, 10684.17012809,  9022.73780012, 30272.28911391,\n",
       "         672.42427126, 16353.28226251,  9013.53855958, 16932.14101336,\n",
       "        8763.20999857, 10702.14625251, 13652.63310542, 13267.91285269,\n",
       "       26057.54552337, 10462.48053567, 36423.84250946,  5145.79821997,\n",
       "        9532.35471109,   926.07280238,  6635.18312192, 34906.78798409,\n",
       "       34158.76753135,  8214.44050747,  9411.37431701,  7688.53439131,\n",
       "       32529.66951388, 25511.65654536,  6777.39016891, 35454.16845154,\n",
       "       33219.62747392,  1609.23659071,  9998.79727626,  6353.29894664,\n",
       "         320.81484993, 27468.57195946,  5412.16153686,  3715.05350858,\n",
       "       12262.46070132,  9555.31534078,  9525.43925938, 14595.51230853,\n",
       "        3855.21657588, 12023.31930406, 35841.13122215, 13831.8140877 ,\n",
       "       29096.40483881, 10532.1206343 , 13508.47897596,  8307.15708673,\n",
       "       30641.07975475, 11799.75474899, 10913.21723476,  5051.51282042,\n",
       "       33133.81423905, 26496.77934186, 11907.79372111,  2425.45213464,\n",
       "       40073.30105238, 24746.02998359, 11451.66087289,  6106.9080695 ,\n",
       "       12198.53478933,  9957.56176616,  3122.99924398, 36902.66308138,\n",
       "        7459.50720854, 10429.20194228,  5980.51463811,  3054.09411045,\n",
       "        9315.71342431, 32270.66906763, 15567.01745264,  6190.19131299,\n",
       "       10564.69475393,  5912.3169414 ,  8956.52809931,  7866.35712614,\n",
       "        4482.86660442, 12337.22896928, 17313.76229093,  4826.20493211,\n",
       "       10269.27278997, 30934.25920084, 13836.30990308,  9759.65327348,\n",
       "       14733.9054845 , 15013.31001096, 33913.26345748,  7685.12399007,\n",
       "        6632.4958633 ,  1590.05645034,  7995.5233211 , 11485.27653018,\n",
       "        5580.34296861,  4338.74057296, 32717.41202635,  6957.46627391,\n",
       "        2839.55977889,  9807.06898534, 14354.56271204, 29550.1352964 ,\n",
       "       10182.87486551, 13822.99846572,  1005.51668237,    72.32794253,\n",
       "       38413.17781168, 27229.70114753, 26637.25516294,  6556.18926638,\n",
       "       30858.07120572, 14228.50887739,  -840.07324389,  8911.75183635,\n",
       "       13619.1000627 , 11509.23467571,  1418.8785819 , 12148.43710257,\n",
       "       15333.31465784, 30788.34335414, 29654.44554492,  5250.65574769,\n",
       "        9583.20074809,  2499.54931054,  7215.57463317,  6645.54235659,\n",
       "       27220.16759396,   814.5900473 ,  4515.0133017 , 36332.3988849 ,\n",
       "       34805.58973835, 36453.53611601,  6103.58021016,  6986.1079207 ,\n",
       "       38454.74734995,  6306.68110274,  5287.9666742 , 37881.90632257,\n",
       "        5323.26143416,  2394.72227414, 16398.81765532, 27936.09993877,\n",
       "        9817.33743134, 37684.21361379, 11562.07174432,  1278.94736183,\n",
       "        2650.87305617,  9439.79236335,  8875.89112834,  6930.15238323,\n",
       "        7026.85741912,  2642.02137428,  9024.07462785, 10720.6914334 ,\n",
       "        9706.00665978, 12744.94323341,  9489.66377145, 31193.25443604,\n",
       "       29453.69520459, 11057.63638097,  6926.14257954, 27519.87626768,\n",
       "       16100.18911202, 14502.11378493,  8747.28306487,  5392.53926128,\n",
       "       15805.26112166, 10823.34510868,  1127.65410752,  3976.08097368,\n",
       "        4994.98837183, 14941.72586559,  4270.84084452, 10243.5168673 ,\n",
       "       13430.53447465, 36555.13522602, 24709.58072542,  3897.41325707,\n",
       "       11426.28321239, 10864.09981814, 10704.65146648, 26290.07775662,\n",
       "        9177.5825869 , 15075.22243459,  5366.66213128, 11346.31472796,\n",
       "       14730.95067629,  5355.25346971, 11734.22431433,  3840.88359743])"
      ]
     },
     "execution_count": 31,
     "metadata": {},
     "output_type": "execute_result"
    }
   ],
   "source": [
    "y_pred"
   ]
  },
  {
   "cell_type": "markdown",
   "id": "9e4625f1",
   "metadata": {},
   "source": [
    "# Support Vector Machine"
   ]
  },
  {
   "cell_type": "code",
   "execution_count": 32,
   "id": "1b0af2bd",
   "metadata": {},
   "outputs": [
    {
     "name": "stdout",
     "output_type": "stream",
     "text": [
      "MSE : 174595630.81989565\n",
      "RMSE : 13213.46399775228\n",
      "r2 score : -0.13187810353027452\n"
     ]
    }
   ],
   "source": [
    "from sklearn.svm import SVR\n",
    "\n",
    "# creating the model\n",
    "model = SVR()\n",
    "\n",
    "# feeding the training data to the model\n",
    "model.fit(x_train, y_train)\n",
    "\n",
    "# predicting the test set results\n",
    "y_pred = model.predict(x_test)\n",
    "\n",
    "# calculating the mean squared error\n",
    "mse = np.mean((y_test - y_pred)**2, axis = None)\n",
    "print(\"MSE :\", mse)\n",
    "\n",
    "# Calculating the root mean squared error\n",
    "rmse = np.sqrt(mse)\n",
    "print(\"RMSE :\", rmse)\n",
    "\n",
    "# Calculating the r2 score\n",
    "r2 = r2_score(y_test, y_pred)\n",
    "print(\"r2 score :\", r2)"
   ]
  },
  {
   "cell_type": "markdown",
   "id": "bf28bf13",
   "metadata": {},
   "source": [
    "# Random Forest"
   ]
  },
  {
   "cell_type": "code",
   "execution_count": 33,
   "id": "14cd8a2d",
   "metadata": {},
   "outputs": [
    {
     "name": "stdout",
     "output_type": "stream",
     "text": [
      "MSE : 21696871.595662504\n",
      "RMSE : 4657.99008110392\n",
      "r2 score : 0.8593423342903042\n"
     ]
    }
   ],
   "source": [
    "from sklearn.ensemble import RandomForestRegressor\n",
    "\n",
    "# creating the model\n",
    "model = RandomForestRegressor(n_estimators = 40, max_depth = 4, n_jobs = -1)\n",
    "\n",
    "# feeding the training data to the model\n",
    "model.fit(x_train, y_train)\n",
    "\n",
    "# predicting the test set results\n",
    "y_pred = model.predict(x_test)\n",
    "\n",
    "# calculating the mean squared error\n",
    "mse = np.mean((y_test - y_pred)**2, axis = None)\n",
    "print(\"MSE :\", mse)\n",
    "\n",
    "# Calculating the root mean squared error\n",
    "rmse = np.sqrt(mse)\n",
    "print(\"RMSE :\", rmse)\n",
    "\n",
    "# Calculating the r2 score\n",
    "r2 = r2_score(y_test, y_pred)\n",
    "print(\"r2 score :\", r2)"
   ]
  },
  {
   "cell_type": "code",
   "execution_count": 34,
   "id": "d8392858",
   "metadata": {},
   "outputs": [
    {
     "name": "stdout",
     "output_type": "stream",
     "text": [
      "[44589.66795109  5459.4705363   5894.59559297 16970.92869557\n",
      " 10485.53547715  5459.4705363   2782.54246166 10369.29374066\n",
      " 44882.10936917 13158.2443223   6932.37279361 10555.56022865\n",
      " 45481.7627243  13277.57289164  2782.54246166 24926.05284293\n",
      " 10406.62995415  8974.10163086 17682.08858371 10045.08755066\n",
      "  2782.54246166  6223.83134775 10378.24248378  7697.62123934\n",
      " 25219.72229447 45290.03389159 14208.86646255  5111.03041987\n",
      "  6990.47554159 10525.86411259  5169.09431444 37178.55137179\n",
      "  2858.5481164  10468.43764627 13158.2443223   6223.83134775\n",
      "  2782.54246166  6831.858101    2782.54246166  6522.0084555\n",
      "  6427.7403881  23639.14329149  4252.42789718 13158.2443223\n",
      "  6908.0873491  39218.17276851  6363.43031282  2782.54246166\n",
      "  3725.5148727   6256.42466367  7165.49600191 10055.89321628\n",
      " 13158.2443223   2782.54246166  6990.47554159  7443.87608897\n",
      " 20302.84036883  4761.28143495 13158.2443223   6227.32611726\n",
      " 13334.05417429  6676.98945488 10792.15986527  4917.69256707\n",
      "  2853.71199803  5356.92239216 10710.73780956  5169.09431444\n",
      "  6164.27703919 13334.05417429 14584.92010168  2782.54246166\n",
      "  3720.67875433  9767.19385877 15606.57843931  3720.67875433\n",
      "  9303.06643361 10301.77825908 20117.14239215  4252.42789718\n",
      "  2782.54246166  9387.4799931   6679.4455446  19163.48665948\n",
      "  2782.54246166 14765.78983723  6811.69814935 14841.38914203\n",
      " 10326.97806809  6876.00822462 14733.30798714 13243.56325058\n",
      " 36415.96072803  7165.49600191 27187.54501721  4350.49852274\n",
      " 10659.47339387  6751.40350496  6076.39026402 45232.09817525\n",
      " 44589.66795109 13085.45574163  7147.12826038  4972.60658418\n",
      " 39119.0405999  17291.09466787  6394.43669089 44589.66795109\n",
      " 27178.6962187   2858.5481164  13466.01279107  7081.79184199\n",
      "  6919.67076537 18636.6874042   4350.49852274  5652.80838911\n",
      " 13158.2443223   6223.83134775  8140.70701049 10043.20533436\n",
      "  3546.96107381  7255.11673896 26169.72486263 13806.7888294\n",
      " 19111.81260434 14154.45804452 14657.70868234  7268.04414606\n",
      " 22555.18383008 13055.12335114 10481.5793639   4661.79308546\n",
      " 40446.19088925 35890.3981825  13158.2443223   2782.54246166\n",
      " 45898.07370528 18308.59212416 13986.41692205  6159.26891826\n",
      " 13277.57289164 10420.55815634  5558.9588858  45290.03389159\n",
      "  6506.03662162 10430.31494822  4993.95890999  6556.76816563\n",
      "  7268.04414606 26492.76057504 13334.05417429  9685.49139898\n",
      "  6757.70824424  7722.06591762  6932.37279361  6570.34669689\n",
      "  2782.54246166 13158.2443223  14132.36529483  2782.54246166\n",
      " 10087.53115201 38555.73012769 10422.52723246 10108.35752359\n",
      " 10556.75124855 13806.7888294  42565.25887613  6076.39026402\n",
      "  5356.92239216  4521.1564086   6982.3034925  13158.2443223\n",
      "  6605.52497112  5381.90983669 39119.0405999   9025.36604654\n",
      "  2782.54246166  4830.86640154 14589.97998524 20117.14239215\n",
      " 10148.13442515 13230.93320313  2782.54246166  2853.71199803\n",
      " 45290.03389159 37909.69014938 16970.92869557  6363.43031282\n",
      " 38863.33689    10371.26281677  2853.71199803  5163.03222607\n",
      " 14227.24662518 10801.91665714  2782.54246166 13158.2443223\n",
      " 15674.30713641 25202.48978741 38047.89011928  5195.67502674\n",
      "  6912.21284196  2782.54246166  6831.858101    5389.01685612\n",
      " 37683.01828322  6822.57304133  2858.5481164  45232.09817525\n",
      " 43547.48552042 43050.60590388  6265.64691587  6365.13380482\n",
      " 45840.13798894  9685.49139898  4917.69256707 45528.55608723\n",
      "  4350.49852274  2782.54246166 13522.49407373 16970.92869557\n",
      "  6811.69814935 45290.03389159  7732.52564842  2782.54246166\n",
      "  4855.13093826  7268.04414606  6729.30995686  4661.79308546\n",
      "  7202.68388373  2782.54246166  7046.61356777 13055.12335114\n",
      " 10108.35752359 13158.2443223  10664.82739575 26467.81395601\n",
      " 39218.17276851 13158.2443223   6506.03662162 36459.54761137\n",
      " 14841.38914203 15346.39681191 10378.24248378  2782.54246166\n",
      " 14978.62437767 14154.45804452  2782.54246166  2858.5481164\n",
      "  4584.23238584 13334.05417429  6391.12454203 10240.83345152\n",
      " 10640.13677297 26169.72486263 19025.89501328  6912.81130427\n",
      " 10506.11956558 10634.46575165 13158.2443223  19801.97546142\n",
      "  6829.82464946 14159.51792808  4661.79308546 13346.68422174\n",
      " 13334.05417429  6291.63619254 10363.2716636   6558.47165762]\n"
     ]
    }
   ],
   "source": [
    "print(y_pred)"
   ]
  },
  {
   "cell_type": "code",
   "execution_count": 35,
   "id": "6abef269",
   "metadata": {},
   "outputs": [
    {
     "name": "stdout",
     "output_type": "stream",
     "text": [
      "338    41919.09700\n",
      "620     3659.34600\n",
      "965     4746.34400\n",
      "128    32734.18630\n",
      "329     9144.56500\n",
      "          ...     \n",
      "580    12913.99240\n",
      "786    12741.16745\n",
      "321    24671.66334\n",
      "903     8125.78450\n",
      "613     6753.03800\n",
      "Name: charges, Length: 268, dtype: float64\n"
     ]
    }
   ],
   "source": [
    "print(y_test)"
   ]
  },
  {
   "cell_type": "markdown",
   "id": "5520c03b",
   "metadata": {},
   "source": [
    "# Decision Forest"
   ]
  },
  {
   "cell_type": "code",
   "execution_count": 36,
   "id": "8de8c737",
   "metadata": {},
   "outputs": [
    {
     "name": "stdout",
     "output_type": "stream",
     "text": [
      "MSE : 41046547.15264392\n",
      "RMSE : 6406.757928363138\n",
      "r2 score : 0.7339011994204703\n"
     ]
    }
   ],
   "source": [
    "from sklearn.tree import DecisionTreeRegressor\n",
    "\n",
    "# creating the model\n",
    "model = DecisionTreeRegressor()\n",
    "\n",
    "# feeding the training data to the model\n",
    "model.fit(x_train, y_train)\n",
    "\n",
    "# predicting the test set results\n",
    "y_pred = model.predict(x_test)\n",
    "\n",
    "# calculating the mean squared error\n",
    "mse = np.mean((y_test - y_pred)**2, axis = None)\n",
    "print(\"MSE :\", mse)\n",
    "\n",
    "# Calculating the root mean squared error\n",
    "rmse = np.sqrt(mse)\n",
    "print(\"RMSE :\", rmse)\n",
    "\n",
    "# Calculating the r2 score\n",
    "r2 = r2_score(y_test, y_pred)\n",
    "print(\"r2 score :\", r2)"
   ]
  },
  {
   "cell_type": "markdown",
   "id": "2f1f70e5",
   "metadata": {},
   "source": [
    "# conclusion "
   ]
  },
  {
   "cell_type": "raw",
   "id": "83c26fee",
   "metadata": {},
   "source": [
    "in Insurance Claim Fraud Detection differnt technique is used to find differnt variable and predict the model suitabe\n",
    "technique. analysing the data through ploting the graph. technique is used that are modeling,random forests,decision tree.etc.\n"
   ]
  },
  {
   "cell_type": "code",
   "execution_count": null,
   "id": "55a10be5",
   "metadata": {},
   "outputs": [],
   "source": []
  }
 ],
 "metadata": {
  "kernelspec": {
   "display_name": "Python 3 (ipykernel)",
   "language": "python",
   "name": "python3"
  },
  "language_info": {
   "codemirror_mode": {
    "name": "ipython",
    "version": 3
   },
   "file_extension": ".py",
   "mimetype": "text/x-python",
   "name": "python",
   "nbconvert_exporter": "python",
   "pygments_lexer": "ipython3",
   "version": "3.8.12"
  }
 },
 "nbformat": 4,
 "nbformat_minor": 5
}
